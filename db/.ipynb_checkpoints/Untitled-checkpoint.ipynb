{
 "cells": [
  {
   "cell_type": "code",
   "execution_count": 1,
   "metadata": {},
   "outputs": [],
   "source": [
    "import os\n",
    "\n",
    "import pandas as pd\n",
    "import numpy as np\n",
    "\n",
    "import sqlalchemy\n",
    "from sqlalchemy.ext.automap import automap_base\n",
    "from sqlalchemy.orm import Session\n",
    "from sqlalchemy import create_engine\n",
    "from config import sql_key, passkey\n",
    "import sqlite3\n",
    "from sqlite3 import Error\n",
    "\n",
    "# Create function that genereates a sqlite connection, uploads csv data, creates sqlite db\n",
    "def create_connection(database):\n",
    "    \"\"\" create a database connection to a database that resides\n",
    "        in the memory\n",
    "    \"\"\"\n",
    "\n",
    "    #create connection remote\n",
    "    conn = sqlite3.connect(database)\n",
    "    # Assign csv location\n",
    "    stock_csv = '../stock_list/nasdaq_tickers.csv'\n",
    "    # CSV to dataframe\n",
    "    stocklist_df = pd.read_csv(stock_csv)\n",
    "    # Load dataframe into sqlite database in a table named 'tickers'\n",
    "    stocklist_df.to_sql('tickers',conn, if_exists='replace')\n",
    "\n",
    "\n",
    "if __name__ == '__main__':\n",
    "    # Call function/ Create database\n",
    "    create_connection('test.db')\n"
   ]
  },
  {
   "cell_type": "code",
   "execution_count": 4,
   "metadata": {},
   "outputs": [],
   "source": []
  },
  {
   "cell_type": "code",
   "execution_count": 5,
   "metadata": {},
   "outputs": [],
   "source": [
    "conn = sqlite3.connect('test.db')\n",
    "c = conn.cursor()\n",
    "ticklist = c.execute('select * from tickers;')\n",
    "for tick in ticklist:\n",
    "    print(tick)"
   ]
  },
  {
   "cell_type": "code",
   "execution_count": 6,
   "metadata": {},
   "outputs": [],
   "source": []
  },
  {
   "cell_type": "code",
   "execution_count": null,
   "metadata": {},
   "outputs": [],
   "source": []
  },
  {
   "cell_type": "code",
   "execution_count": null,
   "metadata": {},
   "outputs": [],
   "source": []
  },
  {
   "cell_type": "code",
   "execution_count": null,
   "metadata": {},
   "outputs": [],
   "source": []
  }
 ],
 "metadata": {
  "kernelspec": {
   "display_name": "Python 3",
   "language": "python",
   "name": "python3"
  },
  "language_info": {
   "codemirror_mode": {
    "name": "ipython",
    "version": 3
   },
   "file_extension": ".py",
   "mimetype": "text/x-python",
   "name": "python",
   "nbconvert_exporter": "python",
   "pygments_lexer": "ipython3",
   "version": "3.7.3"
  }
 },
 "nbformat": 4,
 "nbformat_minor": 2
}
